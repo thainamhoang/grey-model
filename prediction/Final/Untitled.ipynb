{
 "cells": [
  {
   "cell_type": "code",
   "execution_count": 18,
   "metadata": {},
   "outputs": [],
   "source": [
    "import numpy as np\n",
    "import pandas as pd\n",
    "import datetime as dt\n",
    "from matplotlib import pyplot as plt\n",
    "from matplotlib import dates as mdates"
   ]
  },
  {
   "cell_type": "code",
   "execution_count": 19,
   "metadata": {},
   "outputs": [],
   "source": [
    "data = pd.read_csv('/Users/thainam/Documents/GitHub/grey-model/data/plot/pred_GDP_total.csv')"
   ]
  },
  {
   "cell_type": "code",
   "execution_count": 20,
   "metadata": {},
   "outputs": [
    {
     "name": "stdout",
     "output_type": "stream",
     "text": [
      "['2004', '2005', '2006', '2007', '2008', '2009', '2010', '2011', '2012', '2013', '2014', '2015', '2016', '2017', '2018']\n"
     ]
    }
   ],
   "source": [
    "year = data.iloc[:, :1].to_numpy() #Type :pd.DataFrame to numpy.ndarray\n",
    "year = np.reshape(year, len(year))\n",
    "year = year.tolist()\n",
    "year = list(map(str, year))\n",
    "\n",
    "print(year)"
   ]
  },
  {
   "cell_type": "code",
   "execution_count": 21,
   "metadata": {},
   "outputs": [],
   "source": [
    "x = [dt.datetime.strptime(d, '%Y').date() for d in year]"
   ]
  },
  {
   "cell_type": "code",
   "execution_count": 22,
   "metadata": {},
   "outputs": [
    {
     "data": {
      "text/html": [
       "<div>\n",
       "<style scoped>\n",
       "    .dataframe tbody tr th:only-of-type {\n",
       "        vertical-align: middle;\n",
       "    }\n",
       "\n",
       "    .dataframe tbody tr th {\n",
       "        vertical-align: top;\n",
       "    }\n",
       "\n",
       "    .dataframe thead th {\n",
       "        text-align: right;\n",
       "    }\n",
       "</style>\n",
       "<table border=\"1\" class=\"dataframe\">\n",
       "  <thead>\n",
       "    <tr style=\"text-align: right;\">\n",
       "      <th></th>\n",
       "      <th>Year</th>\n",
       "      <th>Actual Data</th>\n",
       "      <th>GM(1, 1)</th>\n",
       "      <th>NGBM(1, 1)</th>\n",
       "      <th>ONGBM(1, 1)</th>\n",
       "      <th>RONGBM(1, 1)</th>\n",
       "    </tr>\n",
       "  </thead>\n",
       "  <tbody>\n",
       "    <tr>\n",
       "      <th>0</th>\n",
       "      <td>2004</td>\n",
       "      <td>45.42785</td>\n",
       "      <td>45.42785</td>\n",
       "      <td>45.42785</td>\n",
       "      <td>45.42785</td>\n",
       "      <td>45.42785</td>\n",
       "    </tr>\n",
       "    <tr>\n",
       "      <th>1</th>\n",
       "      <td>2005</td>\n",
       "      <td>57.63326</td>\n",
       "      <td>61.43522</td>\n",
       "      <td>57.62228</td>\n",
       "      <td>57.55257</td>\n",
       "      <td>57.55257</td>\n",
       "    </tr>\n",
       "    <tr>\n",
       "      <th>2</th>\n",
       "      <td>2006</td>\n",
       "      <td>66.37166</td>\n",
       "      <td>70.01275</td>\n",
       "      <td>68.73623</td>\n",
       "      <td>68.75453</td>\n",
       "      <td>68.75453</td>\n",
       "    </tr>\n",
       "    <tr>\n",
       "      <th>3</th>\n",
       "      <td>2007</td>\n",
       "      <td>77.41443</td>\n",
       "      <td>79.78786</td>\n",
       "      <td>79.99618</td>\n",
       "      <td>80.07765</td>\n",
       "      <td>80.07765</td>\n",
       "    </tr>\n",
       "    <tr>\n",
       "      <th>4</th>\n",
       "      <td>2008</td>\n",
       "      <td>99.13030</td>\n",
       "      <td>90.92776</td>\n",
       "      <td>91.99635</td>\n",
       "      <td>92.12421</td>\n",
       "      <td>92.12421</td>\n",
       "    </tr>\n",
       "    <tr>\n",
       "      <th>5</th>\n",
       "      <td>2009</td>\n",
       "      <td>106.01466</td>\n",
       "      <td>103.62301</td>\n",
       "      <td>105.05247</td>\n",
       "      <td>105.21288</td>\n",
       "      <td>105.21288</td>\n",
       "    </tr>\n",
       "    <tr>\n",
       "      <th>6</th>\n",
       "      <td>2010</td>\n",
       "      <td>115.93175</td>\n",
       "      <td>118.09075</td>\n",
       "      <td>119.40416</td>\n",
       "      <td>119.58390</td>\n",
       "      <td>119.58390</td>\n",
       "    </tr>\n",
       "    <tr>\n",
       "      <th>7</th>\n",
       "      <td>2011</td>\n",
       "      <td>135.53944</td>\n",
       "      <td>134.57846</td>\n",
       "      <td>135.27036</td>\n",
       "      <td>135.45557</td>\n",
       "      <td>135.45557</td>\n",
       "    </tr>\n",
       "    <tr>\n",
       "      <th>8</th>\n",
       "      <td>2012</td>\n",
       "      <td>155.82000</td>\n",
       "      <td>153.36817</td>\n",
       "      <td>152.87099</td>\n",
       "      <td>153.04632</td>\n",
       "      <td>153.04632</td>\n",
       "    </tr>\n",
       "    <tr>\n",
       "      <th>9</th>\n",
       "      <td>2013</td>\n",
       "      <td>171.22203</td>\n",
       "      <td>174.78129</td>\n",
       "      <td>172.43780</td>\n",
       "      <td>172.58566</td>\n",
       "      <td>172.58566</td>\n",
       "    </tr>\n",
       "    <tr>\n",
       "      <th>10</th>\n",
       "      <td>2014</td>\n",
       "      <td>186.20465</td>\n",
       "      <td>199.18408</td>\n",
       "      <td>194.22121</td>\n",
       "      <td>194.32111</td>\n",
       "      <td>194.32111</td>\n",
       "    </tr>\n",
       "    <tr>\n",
       "      <th>11</th>\n",
       "      <td>2015</td>\n",
       "      <td>193.24111</td>\n",
       "      <td>226.99396</td>\n",
       "      <td>218.49546</td>\n",
       "      <td>218.52332</td>\n",
       "      <td>214.67979</td>\n",
       "    </tr>\n",
       "    <tr>\n",
       "      <th>12</th>\n",
       "      <td>2016</td>\n",
       "      <td>205.27617</td>\n",
       "      <td>258.68664</td>\n",
       "      <td>245.56317</td>\n",
       "      <td>245.49057</td>\n",
       "      <td>238.67530</td>\n",
       "    </tr>\n",
       "    <tr>\n",
       "      <th>13</th>\n",
       "      <td>2017</td>\n",
       "      <td>223.77987</td>\n",
       "      <td>294.80421</td>\n",
       "      <td>275.75975</td>\n",
       "      <td>275.55313</td>\n",
       "      <td>270.80266</td>\n",
       "    </tr>\n",
       "    <tr>\n",
       "      <th>14</th>\n",
       "      <td>2018</td>\n",
       "      <td>245.21369</td>\n",
       "      <td>335.96448</td>\n",
       "      <td>309.45795</td>\n",
       "      <td>309.07767</td>\n",
       "      <td>303.53450</td>\n",
       "    </tr>\n",
       "  </tbody>\n",
       "</table>\n",
       "</div>"
      ],
      "text/plain": [
       "    Year  Actual Data   GM(1, 1)  NGBM(1, 1)  ONGBM(1, 1)  RONGBM(1, 1)\n",
       "0   2004     45.42785   45.42785    45.42785     45.42785      45.42785\n",
       "1   2005     57.63326   61.43522    57.62228     57.55257      57.55257\n",
       "2   2006     66.37166   70.01275    68.73623     68.75453      68.75453\n",
       "3   2007     77.41443   79.78786    79.99618     80.07765      80.07765\n",
       "4   2008     99.13030   90.92776    91.99635     92.12421      92.12421\n",
       "5   2009    106.01466  103.62301   105.05247    105.21288     105.21288\n",
       "6   2010    115.93175  118.09075   119.40416    119.58390     119.58390\n",
       "7   2011    135.53944  134.57846   135.27036    135.45557     135.45557\n",
       "8   2012    155.82000  153.36817   152.87099    153.04632     153.04632\n",
       "9   2013    171.22203  174.78129   172.43780    172.58566     172.58566\n",
       "10  2014    186.20465  199.18408   194.22121    194.32111     194.32111\n",
       "11  2015    193.24111  226.99396   218.49546    218.52332     214.67979\n",
       "12  2016    205.27617  258.68664   245.56317    245.49057     238.67530\n",
       "13  2017    223.77987  294.80421   275.75975    275.55313     270.80266\n",
       "14  2018    245.21369  335.96448   309.45795    309.07767     303.53450"
      ]
     },
     "execution_count": 22,
     "metadata": {},
     "output_type": "execute_result"
    }
   ],
   "source": [
    "data.head(22)"
   ]
  },
  {
   "cell_type": "code",
   "execution_count": 23,
   "metadata": {},
   "outputs": [],
   "source": [
    "y = data.iloc[:, 1:6].to_numpy().tolist()"
   ]
  },
  {
   "cell_type": "code",
   "execution_count": 24,
   "metadata": {},
   "outputs": [
    {
     "data": {
      "image/png": "[encoded data removed]",
      "text/plain": [
       "<Figure size 432x288 with 1 Axes>"
      ]
     },
     "metadata": {
      "needs_background": "light"
     },
     "output_type": "display_data"
    }
   ],
   "source": [
    "plt.gca().xaxis.set_major_formatter(mdates.DateFormatter('%Y'))\n",
    "plt.gca().xaxis.set_major_locator(mdates.YearLocator())\n",
    "plt.gcf().autofmt_xdate()\n",
    "plt.plot(x, y)\n",
    "plt.show()"
   ]
  },
  {
   "cell_type": "code",
   "execution_count": null,
   "metadata": {},
   "outputs": [],
   "source": []
  }
 ],
 "metadata": {
  "kernelspec": {
   "display_name": "Python 3",
   "language": "python",
   "name": "python3"
  },
  "language_info": {
   "codemirror_mode": {
    "name": "ipython",
    "version": 3
   },
   "file_extension": ".py",
   "mimetype": "text/x-python",
   "name": "python",
   "nbconvert_exporter": "python",
   "pygments_lexer": "ipython3",
   "version": "3.7.6"
  }
 },
 "nbformat": 4,
 "nbformat_minor": 4
}
