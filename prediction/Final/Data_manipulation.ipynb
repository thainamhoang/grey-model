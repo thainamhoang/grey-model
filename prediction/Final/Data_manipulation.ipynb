{
 "cells": [
  {
   "cell_type": "code",
   "execution_count": 1,
   "metadata": {},
   "outputs": [],
   "source": [
    "import pandas as pd\n",
    "import numpy as np"
   ]
  },
  {
   "cell_type": "code",
   "execution_count": 2,
   "metadata": {},
   "outputs": [],
   "source": [
    "path = '/Users/thainam/Documents/GitHub/grey-model/prediction/Final/ANN_1.csv'"
   ]
  },
  {
   "cell_type": "code",
   "execution_count": 5,
   "metadata": {},
   "outputs": [],
   "source": [
    "data = pd.read_csv(path)"
   ]
  },
  {
   "cell_type": "code",
   "execution_count": 6,
   "metadata": {},
   "outputs": [
    {
     "data": {
      "text/html": [
       "<div>\n",
       "<style scoped>\n",
       "    .dataframe tbody tr th:only-of-type {\n",
       "        vertical-align: middle;\n",
       "    }\n",
       "\n",
       "    .dataframe tbody tr th {\n",
       "        vertical-align: top;\n",
       "    }\n",
       "\n",
       "    .dataframe thead th {\n",
       "        text-align: right;\n",
       "    }\n",
       "</style>\n",
       "<table border=\"1\" class=\"dataframe\">\n",
       "  <thead>\n",
       "    <tr style=\"text-align: right;\">\n",
       "      <th></th>\n",
       "      <th>Unnamed: 0</th>\n",
       "      <th>True</th>\n",
       "      <th>ANN Prediction</th>\n",
       "      <th>Loss_ANN</th>\n",
       "    </tr>\n",
       "  </thead>\n",
       "  <tbody>\n",
       "    <tr>\n",
       "      <th>0</th>\n",
       "      <td>0</td>\n",
       "      <td>0.055730</td>\n",
       "      <td>0.055961</td>\n",
       "      <td>0.289856</td>\n",
       "    </tr>\n",
       "    <tr>\n",
       "      <th>1</th>\n",
       "      <td>1</td>\n",
       "      <td>0.119399</td>\n",
       "      <td>0.118157</td>\n",
       "      <td>0.232825</td>\n",
       "    </tr>\n",
       "    <tr>\n",
       "      <th>2</th>\n",
       "      <td>2</td>\n",
       "      <td>0.186942</td>\n",
       "      <td>0.190385</td>\n",
       "      <td>0.184792</td>\n",
       "    </tr>\n",
       "    <tr>\n",
       "      <th>3</th>\n",
       "      <td>3</td>\n",
       "      <td>0.269601</td>\n",
       "      <td>0.267791</td>\n",
       "      <td>0.145387</td>\n",
       "    </tr>\n",
       "    <tr>\n",
       "      <th>4</th>\n",
       "      <td>4</td>\n",
       "      <td>0.359658</td>\n",
       "      <td>0.362299</td>\n",
       "      <td>0.113833</td>\n",
       "    </tr>\n",
       "    <tr>\n",
       "      <th>5</th>\n",
       "      <td>5</td>\n",
       "      <td>0.444127</td>\n",
       "      <td>0.465198</td>\n",
       "      <td>0.089063</td>\n",
       "    </tr>\n",
       "    <tr>\n",
       "      <th>6</th>\n",
       "      <td>6</td>\n",
       "      <td>0.587215</td>\n",
       "      <td>0.561702</td>\n",
       "      <td>0.069931</td>\n",
       "    </tr>\n",
       "    <tr>\n",
       "      <th>7</th>\n",
       "      <td>7</td>\n",
       "      <td>0.705440</td>\n",
       "      <td>0.702143</td>\n",
       "      <td>0.055472</td>\n",
       "    </tr>\n",
       "    <tr>\n",
       "      <th>8</th>\n",
       "      <td>8</td>\n",
       "      <td>0.805881</td>\n",
       "      <td>0.812577</td>\n",
       "      <td>0.044729</td>\n",
       "    </tr>\n",
       "    <tr>\n",
       "      <th>9</th>\n",
       "      <td>9</td>\n",
       "      <td>0.914992</td>\n",
       "      <td>0.906400</td>\n",
       "      <td>0.036891</td>\n",
       "    </tr>\n",
       "    <tr>\n",
       "      <th>10</th>\n",
       "      <td>10</td>\n",
       "      <td>1.000000</td>\n",
       "      <td>1.008321</td>\n",
       "      <td>0.031288</td>\n",
       "    </tr>\n",
       "    <tr>\n",
       "      <th>11</th>\n",
       "      <td>11</td>\n",
       "      <td>NaN</td>\n",
       "      <td>NaN</td>\n",
       "      <td>0.027321</td>\n",
       "    </tr>\n",
       "    <tr>\n",
       "      <th>12</th>\n",
       "      <td>12</td>\n",
       "      <td>NaN</td>\n",
       "      <td>NaN</td>\n",
       "      <td>0.024518</td>\n",
       "    </tr>\n",
       "    <tr>\n",
       "      <th>13</th>\n",
       "      <td>13</td>\n",
       "      <td>NaN</td>\n",
       "      <td>NaN</td>\n",
       "      <td>0.022511</td>\n",
       "    </tr>\n",
       "    <tr>\n",
       "      <th>14</th>\n",
       "      <td>14</td>\n",
       "      <td>NaN</td>\n",
       "      <td>NaN</td>\n",
       "      <td>0.021024</td>\n",
       "    </tr>\n",
       "    <tr>\n",
       "      <th>15</th>\n",
       "      <td>15</td>\n",
       "      <td>NaN</td>\n",
       "      <td>NaN</td>\n",
       "      <td>0.019865</td>\n",
       "    </tr>\n",
       "    <tr>\n",
       "      <th>16</th>\n",
       "      <td>16</td>\n",
       "      <td>NaN</td>\n",
       "      <td>NaN</td>\n",
       "      <td>0.018888</td>\n",
       "    </tr>\n",
       "    <tr>\n",
       "      <th>17</th>\n",
       "      <td>17</td>\n",
       "      <td>NaN</td>\n",
       "      <td>NaN</td>\n",
       "      <td>0.018018</td>\n",
       "    </tr>\n",
       "    <tr>\n",
       "      <th>18</th>\n",
       "      <td>18</td>\n",
       "      <td>NaN</td>\n",
       "      <td>NaN</td>\n",
       "      <td>0.017212</td>\n",
       "    </tr>\n",
       "    <tr>\n",
       "      <th>19</th>\n",
       "      <td>19</td>\n",
       "      <td>NaN</td>\n",
       "      <td>NaN</td>\n",
       "      <td>0.016428</td>\n",
       "    </tr>\n",
       "  </tbody>\n",
       "</table>\n",
       "</div>"
      ],
      "text/plain": [
       "    Unnamed: 0      True  ANN Prediction  Loss_ANN\n",
       "0            0  0.055730        0.055961  0.289856\n",
       "1            1  0.119399        0.118157  0.232825\n",
       "2            2  0.186942        0.190385  0.184792\n",
       "3            3  0.269601        0.267791  0.145387\n",
       "4            4  0.359658        0.362299  0.113833\n",
       "5            5  0.444127        0.465198  0.089063\n",
       "6            6  0.587215        0.561702  0.069931\n",
       "7            7  0.705440        0.702143  0.055472\n",
       "8            8  0.805881        0.812577  0.044729\n",
       "9            9  0.914992        0.906400  0.036891\n",
       "10          10  1.000000        1.008321  0.031288\n",
       "11          11       NaN             NaN  0.027321\n",
       "12          12       NaN             NaN  0.024518\n",
       "13          13       NaN             NaN  0.022511\n",
       "14          14       NaN             NaN  0.021024\n",
       "15          15       NaN             NaN  0.019865\n",
       "16          16       NaN             NaN  0.018888\n",
       "17          17       NaN             NaN  0.018018\n",
       "18          18       NaN             NaN  0.017212\n",
       "19          19       NaN             NaN  0.016428"
      ]
     },
     "execution_count": 6,
     "metadata": {},
     "output_type": "execute_result"
    }
   ],
   "source": [
    "data.head(20)"
   ]
  },
  {
   "cell_type": "code",
   "execution_count": 7,
   "metadata": {},
   "outputs": [
    {
     "name": "stdout",
     "output_type": "stream",
     "text": [
      "[[0.05573021]\n",
      " [0.11939919]\n",
      " [0.1869423 ]\n",
      " [0.26960084]\n",
      " [0.35965832]\n",
      " [0.44412689]\n",
      " [0.58721539]\n",
      " [0.70543965]\n",
      " [0.80588105]\n",
      " [0.91499158]]\n"
     ]
    }
   ],
   "source": [
    "true = data.iloc[:10, 1:2].values\n",
    "print(true)"
   ]
  },
  {
   "cell_type": "code",
   "execution_count": 24,
   "metadata": {},
   "outputs": [
    {
     "name": "stdout",
     "output_type": "stream",
     "text": [
      "[[0.1407546 ]\n",
      " [0.19848962]\n",
      " [0.26357946]\n",
      " [0.34811112]\n",
      " [0.44309852]\n",
      " [0.5333398 ]\n",
      " [0.68213254]\n",
      " [0.8084547 ]\n",
      " [0.917213  ]\n",
      " [1.0359524 ]]\n"
     ]
    }
   ],
   "source": [
    "pred = data.iloc[:10, 2:3].values\n",
    "print(pred)"
   ]
  },
  {
   "cell_type": "code",
   "execution_count": 26,
   "metadata": {
    "scrolled": false
   },
   "outputs": [
    {
     "name": "stdout",
     "output_type": "stream",
     "text": [
      "[[ 4484.]\n",
      " [ 7020.]\n",
      " [10124.]\n",
      " [13506.]\n",
      " [16678.]\n",
      " [22051.]\n",
      " [26491.]\n",
      " [30262.]\n",
      " [34360.]\n",
      " [37552.]]\n"
     ]
    }
   ],
   "source": [
    "true = np.round(true * 37552)\n",
    "print(true)"
   ]
  },
  {
   "cell_type": "code",
   "execution_count": 27,
   "metadata": {
    "scrolled": true
   },
   "outputs": [
    {
     "name": "stdout",
     "output_type": "stream",
     "text": [
      "[[ 5286.]\n",
      " [ 7454.]\n",
      " [ 9898.]\n",
      " [13072.]\n",
      " [16639.]\n",
      " [20028.]\n",
      " [25615.]\n",
      " [30359.]\n",
      " [34443.]\n",
      " [38902.]]\n"
     ]
    }
   ],
   "source": [
    "pred = np.round(pred * 37552)\n",
    "print(pred)"
   ]
  },
  {
   "cell_type": "code",
   "execution_count": 28,
   "metadata": {},
   "outputs": [
    {
     "name": "stdout",
     "output_type": "stream",
     "text": [
      "[[1.17885816]\n",
      " [1.06182336]\n",
      " [0.97767681]\n",
      " [0.96786613]\n",
      " [0.99766159]\n",
      " [0.90825813]\n",
      " [0.96693217]\n",
      " [1.00320534]\n",
      " [1.0024156 ]\n",
      " [1.03595015]]\n"
     ]
    }
   ],
   "source": [
    "per = pred / true\n",
    "print(per)"
   ]
  },
  {
   "cell_type": "code",
   "execution_count": null,
   "metadata": {},
   "outputs": [],
   "source": []
  }
 ],
 "metadata": {
  "kernelspec": {
   "display_name": "Python 3",
   "language": "python",
   "name": "python3"
  },
  "language_info": {
   "codemirror_mode": {
    "name": "ipython",
    "version": 3
   },
   "file_extension": ".py",
   "mimetype": "text/x-python",
   "name": "python",
   "nbconvert_exporter": "python",
   "pygments_lexer": "ipython3",
   "version": "3.7.6"
  }
 },
 "nbformat": 4,
 "nbformat_minor": 4
}
