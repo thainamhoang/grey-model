{
 "cells": [
  {
   "cell_type": "code",
   "execution_count": 1,
   "metadata": {},
   "outputs": [],
   "source": [
    "import pandas as pd\n",
    "import numpy as np"
   ]
  },
  {
   "cell_type": "code",
   "execution_count": 7,
   "metadata": {},
   "outputs": [],
   "source": [
    "path = '/Users/thainam/Documents/GitHub/grey-model/prediction/Final/LSTM_1.csv'"
   ]
  },
  {
   "cell_type": "code",
   "execution_count": 8,
   "metadata": {},
   "outputs": [],
   "source": [
    "data = pd.read_csv(path1)"
   ]
  },
  {
   "cell_type": "code",
   "execution_count": 9,
   "metadata": {},
   "outputs": [
    {
     "data": {
      "text/html": [
       "<div>\n",
       "<style scoped>\n",
       "    .dataframe tbody tr th:only-of-type {\n",
       "        vertical-align: middle;\n",
       "    }\n",
       "\n",
       "    .dataframe tbody tr th {\n",
       "        vertical-align: top;\n",
       "    }\n",
       "\n",
       "    .dataframe thead th {\n",
       "        text-align: right;\n",
       "    }\n",
       "</style>\n",
       "<table border=\"1\" class=\"dataframe\">\n",
       "  <thead>\n",
       "    <tr style=\"text-align: right;\">\n",
       "      <th></th>\n",
       "      <th>Unnamed: 0</th>\n",
       "      <th>True</th>\n",
       "      <th>LSTM Prediction</th>\n",
       "      <th>Loss_LSTM</th>\n",
       "    </tr>\n",
       "  </thead>\n",
       "  <tbody>\n",
       "    <tr>\n",
       "      <th>0</th>\n",
       "      <td>0</td>\n",
       "      <td>0.055730</td>\n",
       "      <td>0.085063</td>\n",
       "      <td>0.561529</td>\n",
       "    </tr>\n",
       "    <tr>\n",
       "      <th>1</th>\n",
       "      <td>1</td>\n",
       "      <td>0.119399</td>\n",
       "      <td>0.137416</td>\n",
       "      <td>0.525594</td>\n",
       "    </tr>\n",
       "    <tr>\n",
       "      <th>2</th>\n",
       "      <td>2</td>\n",
       "      <td>0.186942</td>\n",
       "      <td>0.199579</td>\n",
       "      <td>0.492183</td>\n",
       "    </tr>\n",
       "    <tr>\n",
       "      <th>3</th>\n",
       "      <td>3</td>\n",
       "      <td>0.269601</td>\n",
       "      <td>0.267954</td>\n",
       "      <td>0.461082</td>\n",
       "    </tr>\n",
       "    <tr>\n",
       "      <th>4</th>\n",
       "      <td>4</td>\n",
       "      <td>0.359658</td>\n",
       "      <td>0.353856</td>\n",
       "      <td>0.432123</td>\n",
       "    </tr>\n",
       "    <tr>\n",
       "      <th>5</th>\n",
       "      <td>5</td>\n",
       "      <td>0.444127</td>\n",
       "      <td>0.445464</td>\n",
       "      <td>0.405038</td>\n",
       "    </tr>\n",
       "    <tr>\n",
       "      <th>6</th>\n",
       "      <td>6</td>\n",
       "      <td>0.587215</td>\n",
       "      <td>0.532744</td>\n",
       "      <td>0.379553</td>\n",
       "    </tr>\n",
       "    <tr>\n",
       "      <th>7</th>\n",
       "      <td>7</td>\n",
       "      <td>0.705440</td>\n",
       "      <td>0.682028</td>\n",
       "      <td>0.355437</td>\n",
       "    </tr>\n",
       "    <tr>\n",
       "      <th>8</th>\n",
       "      <td>8</td>\n",
       "      <td>0.805881</td>\n",
       "      <td>0.808169</td>\n",
       "      <td>0.332514</td>\n",
       "    </tr>\n",
       "    <tr>\n",
       "      <th>9</th>\n",
       "      <td>9</td>\n",
       "      <td>0.914992</td>\n",
       "      <td>0.916493</td>\n",
       "      <td>0.310673</td>\n",
       "    </tr>\n",
       "    <tr>\n",
       "      <th>10</th>\n",
       "      <td>10</td>\n",
       "      <td>1.000000</td>\n",
       "      <td>1.034663</td>\n",
       "      <td>0.289797</td>\n",
       "    </tr>\n",
       "    <tr>\n",
       "      <th>11</th>\n",
       "      <td>11</td>\n",
       "      <td>NaN</td>\n",
       "      <td>NaN</td>\n",
       "      <td>0.269835</td>\n",
       "    </tr>\n",
       "    <tr>\n",
       "      <th>12</th>\n",
       "      <td>12</td>\n",
       "      <td>NaN</td>\n",
       "      <td>NaN</td>\n",
       "      <td>0.250740</td>\n",
       "    </tr>\n",
       "    <tr>\n",
       "      <th>13</th>\n",
       "      <td>13</td>\n",
       "      <td>NaN</td>\n",
       "      <td>NaN</td>\n",
       "      <td>0.232487</td>\n",
       "    </tr>\n",
       "    <tr>\n",
       "      <th>14</th>\n",
       "      <td>14</td>\n",
       "      <td>NaN</td>\n",
       "      <td>NaN</td>\n",
       "      <td>0.215070</td>\n",
       "    </tr>\n",
       "    <tr>\n",
       "      <th>15</th>\n",
       "      <td>15</td>\n",
       "      <td>NaN</td>\n",
       "      <td>NaN</td>\n",
       "      <td>0.198496</td>\n",
       "    </tr>\n",
       "    <tr>\n",
       "      <th>16</th>\n",
       "      <td>16</td>\n",
       "      <td>NaN</td>\n",
       "      <td>NaN</td>\n",
       "      <td>0.182774</td>\n",
       "    </tr>\n",
       "    <tr>\n",
       "      <th>17</th>\n",
       "      <td>17</td>\n",
       "      <td>NaN</td>\n",
       "      <td>NaN</td>\n",
       "      <td>0.167920</td>\n",
       "    </tr>\n",
       "    <tr>\n",
       "      <th>18</th>\n",
       "      <td>18</td>\n",
       "      <td>NaN</td>\n",
       "      <td>NaN</td>\n",
       "      <td>0.153953</td>\n",
       "    </tr>\n",
       "    <tr>\n",
       "      <th>19</th>\n",
       "      <td>19</td>\n",
       "      <td>NaN</td>\n",
       "      <td>NaN</td>\n",
       "      <td>0.140889</td>\n",
       "    </tr>\n",
       "  </tbody>\n",
       "</table>\n",
       "</div>"
      ],
      "text/plain": [
       "    Unnamed: 0      True  LSTM Prediction  Loss_LSTM\n",
       "0            0  0.055730         0.085063   0.561529\n",
       "1            1  0.119399         0.137416   0.525594\n",
       "2            2  0.186942         0.199579   0.492183\n",
       "3            3  0.269601         0.267954   0.461082\n",
       "4            4  0.359658         0.353856   0.432123\n",
       "5            5  0.444127         0.445464   0.405038\n",
       "6            6  0.587215         0.532744   0.379553\n",
       "7            7  0.705440         0.682028   0.355437\n",
       "8            8  0.805881         0.808169   0.332514\n",
       "9            9  0.914992         0.916493   0.310673\n",
       "10          10  1.000000         1.034663   0.289797\n",
       "11          11       NaN              NaN   0.269835\n",
       "12          12       NaN              NaN   0.250740\n",
       "13          13       NaN              NaN   0.232487\n",
       "14          14       NaN              NaN   0.215070\n",
       "15          15       NaN              NaN   0.198496\n",
       "16          16       NaN              NaN   0.182774\n",
       "17          17       NaN              NaN   0.167920\n",
       "18          18       NaN              NaN   0.153953\n",
       "19          19       NaN              NaN   0.140889"
      ]
     },
     "execution_count": 9,
     "metadata": {},
     "output_type": "execute_result"
    }
   ],
   "source": [
    "data.head(20)"
   ]
  },
  {
   "cell_type": "code",
   "execution_count": 12,
   "metadata": {},
   "outputs": [
    {
     "name": "stdout",
     "output_type": "stream",
     "text": [
      "[[0.05573021]\n",
      " [0.11939919]\n",
      " [0.1869423 ]\n",
      " [0.26960084]\n",
      " [0.35965832]\n",
      " [0.44412689]\n",
      " [0.58721539]\n",
      " [0.70543965]\n",
      " [0.80588105]\n",
      " [0.91499158]\n",
      " [1.        ]]\n"
     ]
    }
   ],
   "source": [
    "true = data.iloc[:11, 1:2].values\n",
    "print(true)"
   ]
  },
  {
   "cell_type": "code",
   "execution_count": 13,
   "metadata": {},
   "outputs": [
    {
     "name": "stdout",
     "output_type": "stream",
     "text": [
      "[[0.08506252]\n",
      " [0.13741556]\n",
      " [0.19957869]\n",
      " [0.2679545 ]\n",
      " [0.35385567]\n",
      " [0.44546402]\n",
      " [0.5327443 ]\n",
      " [0.68202823]\n",
      " [0.8081688 ]\n",
      " [0.9164935 ]\n",
      " [1.0346625 ]]\n"
     ]
    }
   ],
   "source": [
    "pred = data.iloc[:11, 2:3].values\n",
    "print(pred)"
   ]
  },
  {
   "cell_type": "code",
   "execution_count": 14,
   "metadata": {},
   "outputs": [
    {
     "name": "stdout",
     "output_type": "stream",
     "text": [
      "<class 'numpy.ndarray'> <class 'numpy.ndarray'>\n"
     ]
    }
   ],
   "source": [
    "print(type(true), type(pred))"
   ]
  },
  {
   "cell_type": "code",
   "execution_count": 15,
   "metadata": {},
   "outputs": [
    {
     "name": "stdout",
     "output_type": "stream",
     "text": [
      "[[ 2092.78079451]\n",
      " [ 4483.67851132]\n",
      " [ 7020.05728621]\n",
      " [10124.05068115]\n",
      " [13505.88904766]\n",
      " [16677.85310089]\n",
      " [22051.11250834]\n",
      " [26490.66971516]\n",
      " [30262.44501604]\n",
      " [34359.76399606]\n",
      " [37552.        ]]\n"
     ]
    }
   ],
   "source": [
    "true = true * 37552\n",
    "print(true)"
   ]
  },
  {
   "cell_type": "code",
   "execution_count": 16,
   "metadata": {},
   "outputs": [
    {
     "ename": "TypeError",
     "evalue": "type numpy.ndarray doesn't define __round__ method",
     "output_type": "error",
     "traceback": [
      "\u001b[0;31m---------------------------------------------------------------------------\u001b[0m",
      "\u001b[0;31mTypeError\u001b[0m                                 Traceback (most recent call last)",
      "\u001b[0;32m<ipython-input-16-4f4395d35eb6>\u001b[0m in \u001b[0;36m<module>\u001b[0;34m\u001b[0m\n\u001b[0;32m----> 1\u001b[0;31m \u001b[0mprint\u001b[0m\u001b[0;34m(\u001b[0m\u001b[0mround\u001b[0m\u001b[0;34m(\u001b[0m\u001b[0mtrue\u001b[0m\u001b[0;34m)\u001b[0m\u001b[0;34m)\u001b[0m\u001b[0;34m\u001b[0m\u001b[0;34m\u001b[0m\u001b[0m\n\u001b[0m",
      "\u001b[0;31mTypeError\u001b[0m: type numpy.ndarray doesn't define __round__ method"
     ]
    }
   ],
   "source": [
    "print(round(true))"
   ]
  },
  {
   "cell_type": "code",
   "execution_count": 17,
   "metadata": {},
   "outputs": [
    {
     "name": "stdout",
     "output_type": "stream",
     "text": [
      "[[ 2093.]\n",
      " [ 4484.]\n",
      " [ 7020.]\n",
      " [10124.]\n",
      " [13506.]\n",
      " [16678.]\n",
      " [22051.]\n",
      " [26491.]\n",
      " [30262.]\n",
      " [34360.]\n",
      " [37552.]]\n"
     ]
    }
   ],
   "source": [
    "true = np.round(true)\n",
    "print(true)"
   ]
  },
  {
   "cell_type": "code",
   "execution_count": 18,
   "metadata": {},
   "outputs": [
    {
     "name": "stdout",
     "output_type": "stream",
     "text": [
      "[[ 3194.]\n",
      " [ 5160.]\n",
      " [ 7495.]\n",
      " [10062.]\n",
      " [13288.]\n",
      " [16728.]\n",
      " [20006.]\n",
      " [25612.]\n",
      " [30348.]\n",
      " [34416.]\n",
      " [38854.]]\n"
     ]
    }
   ],
   "source": [
    "pred = np.round(pred * 37552)\n",
    "print(pred)"
   ]
  },
  {
   "cell_type": "code",
   "execution_count": null,
   "metadata": {},
   "outputs": [],
   "source": []
  }
 ],
 "metadata": {
  "kernelspec": {
   "display_name": "Python 3",
   "language": "python",
   "name": "python3"
  },
  "language_info": {
   "codemirror_mode": {
    "name": "ipython",
    "version": 3
   },
   "file_extension": ".py",
   "mimetype": "text/x-python",
   "name": "python",
   "nbconvert_exporter": "python",
   "pygments_lexer": "ipython3",
   "version": "3.7.6"
  }
 },
 "nbformat": 4,
 "nbformat_minor": 4
}
