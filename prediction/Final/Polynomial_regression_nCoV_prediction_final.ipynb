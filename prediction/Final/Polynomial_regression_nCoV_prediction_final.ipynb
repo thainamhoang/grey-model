{
 "cells": [
  {
   "cell_type": "code",
   "execution_count": 1,
   "metadata": {},
   "outputs": [],
   "source": [
    "import numpy as np\n",
    "import pandas as pd\n",
    "from matplotlib import pyplot as plt\n",
    "from math import sqrt\n",
    "\n",
    "from sklearn.metrics import mean_squared_error as mse\n",
    "from sklearn.metrics import r2_score"
   ]
  },
  {
   "cell_type": "code",
   "execution_count": 2,
   "metadata": {},
   "outputs": [
    {
     "data": {
      "text/html": [
       "<div>\n",
       "<style scoped>\n",
       "    .dataframe tbody tr th:only-of-type {\n",
       "        vertical-align: middle;\n",
       "    }\n",
       "\n",
       "    .dataframe tbody tr th {\n",
       "        vertical-align: top;\n",
       "    }\n",
       "\n",
       "    .dataframe thead th {\n",
       "        text-align: right;\n",
       "    }\n",
       "</style>\n",
       "<table border=\"1\" class=\"dataframe\">\n",
       "  <thead>\n",
       "    <tr style=\"text-align: right;\">\n",
       "      <th></th>\n",
       "      <th>Number</th>\n",
       "      <th>Date</th>\n",
       "      <th>Total_cases\\t</th>\n",
       "    </tr>\n",
       "  </thead>\n",
       "  <tbody>\n",
       "    <tr>\n",
       "      <th>0</th>\n",
       "      <td>1</td>\n",
       "      <td>1/28/2020</td>\n",
       "      <td>6061</td>\n",
       "    </tr>\n",
       "    <tr>\n",
       "      <th>1</th>\n",
       "      <td>2</td>\n",
       "      <td>1/29/2020</td>\n",
       "      <td>7816</td>\n",
       "    </tr>\n",
       "    <tr>\n",
       "      <th>2</th>\n",
       "      <td>3</td>\n",
       "      <td>1/30/2020</td>\n",
       "      <td>9821</td>\n",
       "    </tr>\n",
       "    <tr>\n",
       "      <th>3</th>\n",
       "      <td>4</td>\n",
       "      <td>1/31/2020</td>\n",
       "      <td>11948</td>\n",
       "    </tr>\n",
       "    <tr>\n",
       "      <th>4</th>\n",
       "      <td>5</td>\n",
       "      <td>2/01/2020</td>\n",
       "      <td>14551</td>\n",
       "    </tr>\n",
       "    <tr>\n",
       "      <th>5</th>\n",
       "      <td>6</td>\n",
       "      <td>2/02/2020</td>\n",
       "      <td>17387</td>\n",
       "    </tr>\n",
       "    <tr>\n",
       "      <th>6</th>\n",
       "      <td>7</td>\n",
       "      <td>2/03/2020</td>\n",
       "      <td>20626</td>\n",
       "    </tr>\n",
       "    <tr>\n",
       "      <th>7</th>\n",
       "      <td>8</td>\n",
       "      <td>2/04/2020</td>\n",
       "      <td>24553</td>\n",
       "    </tr>\n",
       "    <tr>\n",
       "      <th>8</th>\n",
       "      <td>9</td>\n",
       "      <td>2/05/2020</td>\n",
       "      <td>28276</td>\n",
       "    </tr>\n",
       "    <tr>\n",
       "      <th>9</th>\n",
       "      <td>10</td>\n",
       "      <td>2/06/2020</td>\n",
       "      <td>31439</td>\n",
       "    </tr>\n",
       "    <tr>\n",
       "      <th>10</th>\n",
       "      <td>11</td>\n",
       "      <td>2/07/2020</td>\n",
       "      <td>34875</td>\n",
       "    </tr>\n",
       "    <tr>\n",
       "      <th>11</th>\n",
       "      <td>12</td>\n",
       "      <td>2/08/2020</td>\n",
       "      <td>37552</td>\n",
       "    </tr>\n",
       "  </tbody>\n",
       "</table>\n",
       "</div>"
      ],
      "text/plain": [
       "    Number       Date  Total_cases\\t\n",
       "0        1  1/28/2020           6061\n",
       "1        2  1/29/2020           7816\n",
       "2        3  1/30/2020           9821\n",
       "3        4  1/31/2020          11948\n",
       "4        5  2/01/2020          14551\n",
       "5        6  2/02/2020          17387\n",
       "6        7  2/03/2020          20626\n",
       "7        8  2/04/2020          24553\n",
       "8        9  2/05/2020          28276\n",
       "9       10  2/06/2020          31439\n",
       "10      11  2/07/2020          34875\n",
       "11      12  2/08/2020          37552"
      ]
     },
     "execution_count": 2,
     "metadata": {},
     "output_type": "execute_result"
    }
   ],
   "source": [
    "# Import data\n",
    "path = '/Users/thainam/Documents/GitHub/grey-model/data/nCoV_data_enumerated.csv'\n",
    "data = pd.read_csv(path)\n",
    "\n",
    "# Check data\n",
    "data.head(20)"
   ]
  },
  {
   "cell_type": "code",
   "execution_count": 3,
   "metadata": {},
   "outputs": [
    {
     "data": {
      "image/png": "[encoded data removed]",
      "text/plain": [
       "<Figure size 432x288 with 1 Axes>"
      ]
     },
     "metadata": {
      "needs_background": "light"
     },
     "output_type": "display_data"
    },
    {
     "name": "stdout",
     "output_type": "stream",
     "text": [
      "Root mean squared error score: 1.0829995188136434e-07\n",
      "R^2 score: 0.9891358160698311\n"
     ]
    }
   ],
   "source": [
    "from sklearn.linear_model import LinearRegression\n",
    "\n",
    "# Linear Regression\n",
    "model = LinearRegression()\n",
    "X = data.iloc[:, 0:1].values\n",
    "y = data.iloc[:, 2:3].values\n",
    "model.fit(X, y)\n",
    "y_pred = model.predict(X)\n",
    "\n",
    "# Graphing\n",
    "plt.scatter(X, y)\n",
    "plt.plot(X, y_pred, color='red')\n",
    "plt.title(\"Linear Regression\")\n",
    "plt.xlabel(\"Number\")\n",
    "plt.ylabel(\"Total cases\")\n",
    "plt.show()\n",
    "\n",
    "# Score\n",
    "rmse = sqrt(mse(y, y_pred))\n",
    "print(\"Root mean squared error score: \" + str(rmse / 10**10))\n",
    "r2 = r2_score(y, y_pred)\n",
    "print(\"R^2 score: \" + str(r2))"
   ]
  },
  {
   "cell_type": "code",
   "execution_count": 4,
   "metadata": {},
   "outputs": [],
   "source": [
    "X_train = data.iloc[:13, 0:1].values\n",
    "X_test = data.iloc[13:, 0:1].values\n",
    "\n",
    "y_train = data.iloc[:13, 2:3].values\n",
    "y_test = data.iloc[13:, 2:3].values"
   ]
  },
  {
   "cell_type": "code",
   "execution_count": 9,
   "metadata": {},
   "outputs": [
    {
     "data": {
      "image/png": "[encoded data removed]",
      "text/plain": [
       "<Figure size 432x288 with 1 Axes>"
      ]
     },
     "metadata": {
      "needs_background": "light"
     },
     "output_type": "display_data"
    },
    {
     "name": "stdout",
     "output_type": "stream",
     "text": [
      "Root mean squared error score: 1.217046151077001e-08\n",
      "R^2 score: 0.9998627998213961\n"
     ]
    }
   ],
   "source": [
    "from sklearn.preprocessing import PolynomialFeatures\n",
    "\n",
    "# Polynomial Regression\n",
    "features = PolynomialFeatures(degree=4)\n",
    "X_poly = features.fit_transform(X)\n",
    "\n",
    "model = LinearRegression()\n",
    "model.fit(X_poly, y)\n",
    "\n",
    "y_poly_pred = model.predict(X_poly)\n",
    "\n",
    "# Graphing \n",
    "plt.scatter(X, y)\n",
    "plt.plot(X, y_poly_pred, color='red')\n",
    "plt.title(\"Polynomial Regression\")\n",
    "plt.xlabel(\"Number\")\n",
    "plt.ylabel(\"Total cases\")\n",
    "plt.show()\n",
    "\n",
    "# Score\n",
    "rmse = sqrt(mse(y,y_poly_pred))\n",
    "print(\"Root mean squared error score: \" + str(rmse / 10**10))\n",
    "r2 = r2_score(y,y_poly_pred)\n",
    "print(\"R^2 score: \" + str(r2))"
   ]
  },
  {
   "cell_type": "code",
   "execution_count": 7,
   "metadata": {},
   "outputs": [
    {
     "data": {
      "text/plain": [
       "array([[37502.55128205]])"
      ]
     },
     "execution_count": 7,
     "metadata": {},
     "output_type": "execute_result"
    }
   ],
   "source": [
    "# Predicting with Polynomial Regression\n",
    "model.predict(features.fit_transform([[12]])) # Param: X"
   ]
  },
  {
   "cell_type": "code",
   "execution_count": null,
   "metadata": {},
   "outputs": [],
   "source": []
  }
 ],
 "metadata": {
  "kernelspec": {
   "display_name": "Python 3",
   "language": "python",
   "name": "python3"
  },
  "language_info": {
   "codemirror_mode": {
    "name": "ipython",
    "version": 3
   },
   "file_extension": ".py",
   "mimetype": "text/x-python",
   "name": "python",
   "nbconvert_exporter": "python",
   "pygments_lexer": "ipython3",
   "version": "3.7.6"
  }
 },
 "nbformat": 4,
 "nbformat_minor": 4
}
