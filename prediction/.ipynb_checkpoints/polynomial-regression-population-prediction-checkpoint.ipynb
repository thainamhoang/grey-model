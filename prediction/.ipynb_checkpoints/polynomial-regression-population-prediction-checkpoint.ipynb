{
 "cells": [
  {
   "cell_type": "code",
   "execution_count": 6,
   "metadata": {},
   "outputs": [],
   "source": [
    "# Import dependencies\n",
    "import numpy as np\n",
    "import pandas as pd\n",
    "from matplotlib import pyplot as plt\n",
    "from math import sqrt\n",
    "\n",
    "from sklearn.metrics import mean_squared_error as mse\n",
    "from sklearn.metrics import r2_score"
   ]
  },
  {
   "cell_type": "code",
   "execution_count": 5,
   "metadata": {},
   "outputs": [
    {
     "name": "stdout",
     "output_type": "stream",
     "text": [
      "   year  population\n",
      "0  1985   60.896721\n",
      "1  1986   62.293856\n",
      "2  1987   63.701972\n",
      "3  1988   65.120439\n",
      "4  1989   66.550234\n"
     ]
    },
    {
     "data": {
      "image/png": "[encoded data removed]",
      "text/plain": [
       "<Figure size 432x288 with 1 Axes>"
      ]
     },
     "metadata": {
      "needs_background": "light"
     },
     "output_type": "display_data"
    }
   ],
   "source": [
    "# Import data\n",
    "path = '/Users/thainam/Documents/GitHub/grey-model/data/population.csv'\n",
    "data = pd.read_csv(path)\n",
    "\n",
    "# Check and print out data\n",
    "print(data.head())\n",
    "plt.scatter(data.year, data.population)\n",
    "plt.show()"
   ]
  },
  {
   "cell_type": "code",
   "execution_count": null,
   "metadata": {},
   "outputs": [],
   "source": [
    "from sklearn.linear_model import LinearRegression\n",
    "# Linear Regression\n",
    "x = data.year[:, np.newaxis]\n",
    "y = data.gdp[:, np.newaxis]\n",
    "\n",
    "model = LinearRegression()\n",
    "model.fit(x, y)\n",
    "y_pred = model.predict(x)\n",
    "\n",
    "plt.scatter(x, y)\n",
    "plt.plot(x, y_pred, color = 'red')\n",
    "plt.show()\n",
    "\n",
    "# Check scores\n",
    "rmse = math.sqrt(mse(y, y_pred))\n",
    "print(\"Root mean squared error score: \" + str(rmse / 10**10))\n",
    "r2 = r2_score(y, y_pred)\n",
    "print(\"R^2 score: \" + str(r2))"
   ]
  }
 ],
 "metadata": {
  "kernelspec": {
   "display_name": "Python 3",
   "language": "python",
   "name": "python3"
  },
  "language_info": {
   "codemirror_mode": {
    "name": "ipython",
    "version": 3
   },
   "file_extension": ".py",
   "mimetype": "text/x-python",
   "name": "python",
   "nbconvert_exporter": "python",
   "pygments_lexer": "ipython3",
   "version": "3.7.6"
  }
 },
 "nbformat": 4,
 "nbformat_minor": 4
}
