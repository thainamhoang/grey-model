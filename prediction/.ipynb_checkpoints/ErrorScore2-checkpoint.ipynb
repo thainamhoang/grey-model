{
 "cells": [
  {
   "cell_type": "code",
   "execution_count": 1,
   "metadata": {},
   "outputs": [],
   "source": [
    "def MAPE(y, y_predict):\n",
    "    y, y_predict = np.array(y), np.array(y_predict)\n",
    "    return (np.mean(np.abs((y - y_predict) / y)) * 100)\n",
    "\n",
    "def adjust_r2(r2, n, k):\n",
    "        return 1 - ((1 - r2) * (( n - 1)/( n - k - 1)))\n",
    "\n",
    "def RPE(y_point, y_point_predict):\n",
    "        return (((y_point_predict - y_point) / y_point_predict) * 100)"
   ]
  },
  {
   "cell_type": "code",
   "execution_count": null,
   "metadata": {},
   "outputs": [],
   "source": []
  }
 ],
 "metadata": {
  "kernelspec": {
   "display_name": "Python 3",
   "language": "python",
   "name": "python3"
  },
  "language_info": {
   "codemirror_mode": {
    "name": "ipython",
    "version": 3
   },
   "file_extension": ".py",
   "mimetype": "text/x-python",
   "name": "python",
   "nbconvert_exporter": "python",
   "pygments_lexer": "ipython3",
   "version": "3.7.6"
  }
 },
 "nbformat": 4,
 "nbformat_minor": 4
}
